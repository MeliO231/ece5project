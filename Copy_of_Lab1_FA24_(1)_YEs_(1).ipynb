{
  "cells": [
    {
      "cell_type": "markdown",
      "metadata": {
        "id": "view-in-github",
        "colab_type": "text"
      },
      "source": [
        "<a href=\"https://colab.research.google.com/github/MeliO231/ece5project/blob/main/Copy_of_Lab1_FA24_(1)_YEs_(1).ipynb\" target=\"_parent\"><img src=\"https://colab.research.google.com/assets/colab-badge.svg\" alt=\"Open In Colab\"/></a>"
      ]
    },
    {
      "cell_type": "markdown",
      "metadata": {
        "id": "QN0sXvYFk3_4"
      },
      "source": [
        "## ECE3 Fall24 HW 1 (lab1) (Due by 11PM, Monday, October 14th.)"
      ]
    },
    {
      "cell_type": "markdown",
      "metadata": {
        "id": "4pcaMYsNlDct"
      },
      "source": [
        "Please first make a copy of this notebook to your Google drive or download to your laptop and edit it using any tool (Google CoLab, Visual Studio Code, Jupyter Notebook, Jupyter Lab, etc.). Submit a Jupyter notebook .ipynb file on Canvas under Assignments."
      ]
    },
    {
      "cell_type": "markdown",
      "metadata": {
        "id": "bk8LjAkzw4Bf"
      },
      "source": [
        "## Multiple Choice Questions"
      ]
    },
    {
      "cell_type": "markdown",
      "metadata": {
        "id": "_Lp3J7j0l0s3"
      },
      "source": [
        "### Question 1\n"
      ]
    },
    {
      "cell_type": "markdown",
      "metadata": {
        "id": "EOsOd7ldxD3g"
      },
      "source": [
        "What is the output of the following code?"
      ]
    },
    {
      "cell_type": "code",
      "execution_count": null,
      "metadata": {
        "id": "EgG34bCXk0SH",
        "colab": {
          "base_uri": "https://localhost:8080/"
        },
        "outputId": "278d6f5c-7bac-4ac2-c54c-af80e0d2c7b6"
      },
      "outputs": [
        {
          "output_type": "stream",
          "name": "stdout",
          "text": [
            "['b', 'c']\n"
          ]
        }
      ],
      "source": [
        "x = ['a','b','c','d']\n",
        "print(x[1:-1])"
      ]
    },
    {
      "cell_type": "markdown",
      "metadata": {
        "id": "fDSsGwMGxbWk"
      },
      "source": [
        "a) ['a' , 'b' , 'c']\n",
        "\n",
        "b) ['b' , 'c']\n",
        "\n",
        "c) ['a' , 'b' , 'c' , 'd']\n",
        "\n",
        "d) ['b' , 'c' , 'd']"
      ]
    },
    {
      "cell_type": "markdown",
      "metadata": {
        "id": "SU4Plx1PdtJm"
      },
      "source": [
        "ANSWER: (Please put your answer in the form of print('a') or print('b')) in the code cell below."
      ]
    },
    {
      "cell_type": "code",
      "source": [
        "print('b')"
      ],
      "metadata": {
        "id": "kTV0jAZpdwnR"
      },
      "execution_count": null,
      "outputs": []
    },
    {
      "cell_type": "markdown",
      "metadata": {
        "id": "8GpUKxqUEBto"
      },
      "source": [
        "### Question 2\n",
        "\n",
        "Which statement is ***False*** ?\n",
        "\n",
        "a) A list can accept python classes.\n",
        "\n",
        "b) A list can only have items of the same data type.\n",
        "\n",
        "c) Python supports variables that are list of lists with different length.\n",
        "\n",
        "d) A list can contain any data type."
      ]
    },
    {
      "cell_type": "markdown",
      "source": [
        "ANSWER: (Please put your answer in the form of print('a') or print('b')) in the code cell below."
      ],
      "metadata": {
        "id": "KCowGih0d5MQ"
      }
    },
    {
      "cell_type": "code",
      "source": [
        "print('b')"
      ],
      "metadata": {
        "id": "CEFCs6ATd6d1"
      },
      "execution_count": null,
      "outputs": []
    },
    {
      "cell_type": "markdown",
      "metadata": {
        "id": "eD5RjhCpdtJm"
      },
      "source": [
        "### Question 3\n",
        "\n",
        "What will be the output of the following code?\n",
        "\n",
        "```\n",
        "x = 5\n",
        "y = 10\n",
        "z1 = x + y * 2.0\n",
        "z2 = x + y * 2\n",
        "print(type(z1),'&',type(z2))\n",
        "```\n",
        "a) <class 'float'> & <class 'float'>\n",
        "\n",
        "b) <class 'int'> & <class 'float'>  \n",
        "\n",
        "c) <class 'int'> & <class 'int'>  \n",
        "\n",
        "d) <class 'float'> & <class 'int'>  "
      ]
    },
    {
      "cell_type": "markdown",
      "source": [
        "ANSWER: (Please put your answer in the form of print('a') or print('b')) in the code cell below."
      ],
      "metadata": {
        "id": "DmfHWlupd9BX"
      }
    },
    {
      "cell_type": "code",
      "source": [
        "print('d')"
      ],
      "metadata": {
        "id": "Zq7RQ9OQd-RD"
      },
      "execution_count": null,
      "outputs": []
    },
    {
      "cell_type": "markdown",
      "metadata": {
        "id": "aM_4Kzu8GX-Z"
      },
      "source": [
        "## Code"
      ]
    },
    {
      "cell_type": "markdown",
      "metadata": {
        "id": "rfdcsggaGcTR"
      },
      "source": [
        "### Question 4\n",
        "\n",
        "Write a program that prints the nth value in an arbitrary list of integers and produces an output like the following: *The n-th item of the list is --- .*  \n",
        "Where n is input by the user and the --- is the nth item of an arbitrary list of 5 or more integers. The program should print an error message if \"n\" is not within the bounds of the list. You can assume that n is an integer. You can try your code with the following list:\n",
        "\n",
        "A = [10, 20, 30, 40, 50]"
      ]
    },
    {
      "cell_type": "code",
      "source": [
        "A = [10, 20, 30, 40, 50]\n",
        "num = int(input(\"Enter a number between 1 and 5:\"))\n",
        "if num > 5 or num < 1:\n",
        "  print(\"Erorr:'n' is not within the bounds of the list \")\n",
        "else:\n",
        "    print(\"the n-th item of the list is\", A[num-1])"
      ],
      "metadata": {
        "id": "6BmLde_0PvWW",
        "colab": {
          "base_uri": "https://localhost:8080/"
        },
        "outputId": "dfab89fc-c9ed-4419-f6ba-a06b2df59aec"
      },
      "execution_count": null,
      "outputs": [
        {
          "output_type": "stream",
          "name": "stdout",
          "text": [
            "Enter a number between 1 and 5:4\n",
            "the n-th item of the list is 40\n"
          ]
        }
      ]
    },
    {
      "cell_type": "markdown",
      "metadata": {
        "id": "uNhc_cRlIX_r"
      },
      "source": [
        "### Question 5\n",
        "\n",
        "Write a program that starts with a dictionary of student names and majors. Ask for a student name from the user and print the major if the student exists in the dictionary. If the student doesn't exist, the program should print a message accordingly. To exit, the user can simply hit enter/return. Use this data to test your code: john, ECE, jane, ECE, mark, Physics.<br>  \n",
        "Sample Output:  \n",
        "Name: john Major: ECE  \n",
        "paul is not found in the dictionary."
      ]
    },
    {
      "cell_type": "markdown",
      "metadata": {
        "id": "5vS2IZIxMeSr"
      },
      "source": [
        "Ans :"
      ]
    },
    {
      "cell_type": "code",
      "source": [
        "students = {\n",
        "    \"john\": \"ECE\",\n",
        "    \"jane\": \"ECE\",\n",
        "    \"mark\": \"Physics\"\n",
        "}\n",
        "name = input(\"Enter a student name (or press Enter to exit): \")\n",
        "if name == \"\":\n",
        "    print(\"Exiting the program.\")\n",
        "else:\n",
        "  if name in students:\n",
        "    print(f\"{name}'s major is {students[name]}.\")\n",
        "  else:\n",
        "    print(f\"Student '{name}' does not exist in the records.\")\n"
      ],
      "metadata": {
        "colab": {
          "base_uri": "https://localhost:8080/"
        },
        "id": "kXYcdE64S2Cn",
        "outputId": "a9b46de7-7e28-4dbd-de0e-2fb971b76904"
      },
      "execution_count": null,
      "outputs": [
        {
          "output_type": "stream",
          "name": "stdout",
          "text": [
            "Enter a student name (or press Enter to exit): mark\n",
            "mark's major is Physics.\n"
          ]
        }
      ]
    },
    {
      "cell_type": "markdown",
      "metadata": {
        "id": "NHX__879MgLz"
      },
      "source": [
        "### Question 6\n",
        "\n",
        "Write a code that sums the items of list x and y pairwise and adds the result of each sum to list z if the sum is bigger than 5. You can assume that the lists are of the same length. E.g. 1+3=4 is less than 5, so this sum doesn't get added. 1+12 = 13 is more than 5, so it gets added to the new list. Use the following lists to test your code:\n",
        "\n",
        "x = [1 , 3 , 5 , 6]\n",
        "\n",
        "y = [12 , 1 , 0 , 2]\n",
        "\n",
        "\n"
      ]
    },
    {
      "cell_type": "code",
      "source": [
        "x = [1, 3, 5, 6]\n",
        "y = [12, 1, 0, 2]\n",
        "z = []\n",
        "for i in range(min(len(x), len(y))):\n",
        "  z.append(x[i] + y[i])\n",
        "print(\"Resulting list z:\")\n",
        "for i in z:\n",
        "  if i > 5:\n",
        "    print(i)"
      ],
      "metadata": {
        "colab": {
          "base_uri": "https://localhost:8080/"
        },
        "id": "rH-VUvnUapEv",
        "outputId": "74335457-f9b0-4f99-d132-009b79b2f347"
      },
      "execution_count": null,
      "outputs": [
        {
          "output_type": "stream",
          "name": "stdout",
          "text": [
            "Resulting list z:\n",
            "13\n",
            "8\n"
          ]
        }
      ]
    },
    {
      "cell_type": "markdown",
      "source": [],
      "metadata": {
        "id": "vIbjjaGGl2wL"
      }
    },
    {
      "cell_type": "markdown",
      "metadata": {
        "id": "QbhZqs77dtJo"
      },
      "source": [
        "### Question 7\n",
        "Complete the code below to print the following patterns.\n",
        "```python\n",
        "# First Pattern\n",
        "**********\n",
        "**********\n",
        "**********\n",
        "**********\n",
        "**********\n",
        "**********\n",
        "**********\n",
        "**********\n",
        "**********\n",
        "**********\n",
        "\n",
        "# Second Pattern\n",
        "*\n",
        "**\n",
        "***\n",
        "****\n",
        "*****\n",
        "******\n",
        "*******\n",
        "********\n",
        "*********\n",
        "\n",
        "# Third Pattern\n",
        "**********\n",
        "*********\n",
        "********\n",
        "*******\n",
        "******\n",
        "*****\n",
        "****\n",
        "***\n",
        "**\n",
        "*\n",
        "\n",
        "```\n"
      ]
    },
    {
      "cell_type": "code",
      "execution_count": null,
      "metadata": {
        "id": "o9HBBZH1dtJo",
        "colab": {
          "base_uri": "https://localhost:8080/"
        },
        "outputId": "8516c0cd-fe25-43b3-c0a2-de6b5952920a"
      },
      "outputs": [
        {
          "output_type": "stream",
          "name": "stdout",
          "text": [
            "\n",
            "First Pattern\n",
            "**********\n",
            "**********\n",
            "**********\n",
            "**********\n",
            "**********\n",
            "**********\n",
            "**********\n",
            "**********\n",
            "**********\n",
            "**********\n",
            "\n",
            "Second Pattern\n",
            "*\n",
            "**\n",
            "***\n",
            "****\n",
            "*****\n",
            "******\n",
            "*******\n",
            "********\n",
            "*********\n",
            "\n",
            "\n",
            "Third Pattern\n",
            "**********\n",
            "*********\n",
            "********\n",
            "*******\n",
            "******\n",
            "*****\n",
            "****\n",
            "***\n",
            "**\n",
            "*\n",
            "\n"
          ]
        }
      ],
      "source": [
        "n = 10\n",
        "\n",
        "# First Pattern\n",
        "print(\"\\nFirst Pattern\")\n",
        "for i in range(n):\n",
        "  for j in range(n):\n",
        "    print('*', end='')\n",
        "  print()\n",
        "\n",
        "# Second Pattern\n",
        "print(\"\\nSecond Pattern\")\n",
        "for i in range(1,n,1):\n",
        "  print('*'*i)\n",
        "print()\n",
        "\n",
        "\n",
        "# Third Pattern\n",
        "print(\"\\nThird Pattern\")\n",
        "for i in range(n,0,-1):\n",
        "  print('*'*i)\n",
        "print()"
      ]
    }
  ],
  "metadata": {
    "colab": {
      "provenance": [],
      "include_colab_link": true
    },
    "kernelspec": {
      "display_name": "Python 3",
      "name": "python3"
    },
    "language_info": {
      "name": "python",
      "version": "3.undefined.undefined"
    }
  },
  "nbformat": 4,
  "nbformat_minor": 0
}